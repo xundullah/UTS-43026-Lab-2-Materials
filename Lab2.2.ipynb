{
 "cells": [
  {
   "cell_type": "markdown",
   "metadata": {},
   "source": [
    "# Lab 2-2: Economic Dispatch of Generators in a Power System\n",
    "## 43026 Energy Economics, Optimisation and Policy\n",
    "### Autumn 2025\n",
    "### MATLAB Lab - Quadratic Programming Approach (Using Python)"
   ]
  },
  {
   "cell_type": "markdown",
   "metadata": {},
   "source": [
    "---\n",
    "\n",
    "## Lab Overview\n",
    "\n",
    "This Python-based Jupyter Notebook helps you understand **economic dispatch using Quadratic Programming**. Our objective is to find the best way to distribute power generation among multiple generators at the **lowest cost** while ensuring that the **total power demand is met**.\n",
    "\n",
    "Unlike **Linear Programming (LP)**, which assumes a constant fuel cost per MW, **Quadratic Programming (QP)** accounts for **diminishing returns** in power generation costs, making it a more **realistic approach**.\n",
    "\n",
    "We use **Quadratic Programming (QP)**, a mathematical optimization method that **minimizes both linear and quadratic cost components** while satisfying constraints.\n",
    "\n",
    "### In this Lab, We Will Learn:\n",
    "- How to **represent generator costs** using both **linear and quadratic components**.\n",
    "- How to **set up constraints** to ensure demand is met.\n",
    "- How to **use Python’s `scipy.optimize.minimize` function** with the **trust-constr method** to solve the **Quadratic Programming problem**."
   ]
  },
  {
   "cell_type": "markdown",
   "metadata": {},
   "source": [
    "---\n",
    "\n",
    "## Step 1: Install Required Python Libraries\n",
    "\n",
    "Before running the code, ensure you have the necessary packages installed.\n",
    "\n",
    "```python\n",
    "!pip install numpy\n",
    "!pip install -U matplotlib\n",
    "!pip install scipy\n",
    "```\n",
    "\n",
    "Now, import the required libraries.\n",
    "\n",
    "```python\n",
    "import numpy as np\n",
    "import matplotlib.pyplot as plt\n",
    "from scipy.optimize import minimize\n",
    "```\n"
   ]
  },
  {
   "cell_type": "code",
   "execution_count": 1,
   "metadata": {},
   "outputs": [
    {
     "name": "stdout",
     "output_type": "stream",
     "text": [
      "Defaulting to user installation because normal site-packages is not writeable\n",
      "Requirement already satisfied: numpy in c:\\users\\rbmxu\\appdata\\roaming\\python\\python313\\site-packages (2.2.3)\n"
     ]
    },
    {
     "name": "stderr",
     "output_type": "stream",
     "text": [
      "\n",
      "[notice] A new release of pip is available: 24.3.1 -> 25.0.1\n",
      "[notice] To update, run: python.exe -m pip install --upgrade pip\n"
     ]
    },
    {
     "name": "stdout",
     "output_type": "stream",
     "text": [
      "Defaulting to user installation because normal site-packages is not writeable\n",
      "Requirement already satisfied: matplotlib in c:\\users\\rbmxu\\appdata\\roaming\\python\\python313\\site-packages (3.10.1)\n",
      "Requirement already satisfied: contourpy>=1.0.1 in c:\\users\\rbmxu\\appdata\\roaming\\python\\python313\\site-packages (from matplotlib) (1.3.1)\n",
      "Requirement already satisfied: cycler>=0.10 in c:\\users\\rbmxu\\appdata\\roaming\\python\\python313\\site-packages (from matplotlib) (0.12.1)\n",
      "Requirement already satisfied: fonttools>=4.22.0 in c:\\users\\rbmxu\\appdata\\roaming\\python\\python313\\site-packages (from matplotlib) (4.56.0)\n",
      "Requirement already satisfied: kiwisolver>=1.3.1 in c:\\users\\rbmxu\\appdata\\roaming\\python\\python313\\site-packages (from matplotlib) (1.4.8)\n",
      "Requirement already satisfied: numpy>=1.23 in c:\\users\\rbmxu\\appdata\\roaming\\python\\python313\\site-packages (from matplotlib) (2.2.3)\n",
      "Requirement already satisfied: packaging>=20.0 in c:\\users\\rbmxu\\appdata\\roaming\\python\\python313\\site-packages (from matplotlib) (24.2)\n",
      "Requirement already satisfied: pillow>=8 in c:\\users\\rbmxu\\appdata\\roaming\\python\\python313\\site-packages (from matplotlib) (11.1.0)\n",
      "Requirement already satisfied: pyparsing>=2.3.1 in c:\\users\\rbmxu\\appdata\\roaming\\python\\python313\\site-packages (from matplotlib) (3.2.1)\n",
      "Requirement already satisfied: python-dateutil>=2.7 in c:\\users\\rbmxu\\appdata\\roaming\\python\\python313\\site-packages (from matplotlib) (2.9.0.post0)\n",
      "Requirement already satisfied: six>=1.5 in c:\\users\\rbmxu\\appdata\\roaming\\python\\python313\\site-packages (from python-dateutil>=2.7->matplotlib) (1.17.0)\n"
     ]
    },
    {
     "name": "stderr",
     "output_type": "stream",
     "text": [
      "\n",
      "[notice] A new release of pip is available: 24.3.1 -> 25.0.1\n",
      "[notice] To update, run: python.exe -m pip install --upgrade pip\n"
     ]
    },
    {
     "name": "stdout",
     "output_type": "stream",
     "text": [
      "Defaulting to user installation because normal site-packages is not writeable\n",
      "Requirement already satisfied: scipy in c:\\users\\rbmxu\\appdata\\roaming\\python\\python313\\site-packages (1.15.2)\n",
      "Requirement already satisfied: numpy<2.5,>=1.23.5 in c:\\users\\rbmxu\\appdata\\roaming\\python\\python313\\site-packages (from scipy) (2.2.3)\n"
     ]
    },
    {
     "name": "stderr",
     "output_type": "stream",
     "text": [
      "\n",
      "[notice] A new release of pip is available: 24.3.1 -> 25.0.1\n",
      "[notice] To update, run: python.exe -m pip install --upgrade pip\n"
     ]
    }
   ],
   "source": [
    "!pip install numpy\n",
    "!pip install -U matplotlib\n",
    "!pip install scipy"
   ]
  },
  {
   "cell_type": "code",
   "execution_count": 2,
   "metadata": {},
   "outputs": [],
   "source": [
    "import numpy as np\n",
    "import matplotlib.pyplot as plt\n",
    "from scipy.optimize import minimize"
   ]
  },
  {
   "cell_type": "markdown",
   "metadata": {},
   "source": [
    "---\n",
    "\n",
    "## Step 2: Define Generator Data\n",
    "\n",
    "Each generator has:\n",
    "- **A fixed startup cost** (in dollars).\n",
    "- **A fuel cost per MW** (how much it costs to produce 1 MW of power).\n",
    "- **A quadratic cost coefficient** (representing diminishing returns on cost as power increases).\n",
    "- **A minimum and maximum power limit**.\n",
    "\n",
    "```python\n",
    "# Number of generators\n",
    "num_generators = 3\n",
    "\n",
    "# Fixed startup cost ($) for each generator (not used in optimization)\n",
    "startup_cost = np.array([100, 120, 90])\n",
    "\n",
    "# Cost per MW ($/MW) for each generator (linear fuel cost)\n",
    "fuel_cost = np.array([10, 12, 9])\n",
    "\n",
    "# Quadratic cost coefficients (representing diminishing returns on cost as power increases)\n",
    "quad_cost = np.array([0.05, 0.04, 0.06])\n",
    "\n",
    "# Minimum and maximum power each generator can produce (MW)\n",
    "P_min = np.array([50, 60, 40])\n",
    "P_max = np.array([200, 180, 150])\n",
    "\n",
    "# Total power demand (MW)\n",
    "P_demand = 400\n",
    "\n",
    "print(\"Generator data is set up.\")\n",
    "```\n",
    "\n"
   ]
  },
  {
   "cell_type": "code",
   "execution_count": 3,
   "metadata": {},
   "outputs": [
    {
     "name": "stdout",
     "output_type": "stream",
     "text": [
      "Generator data is set up.\n"
     ]
    }
   ],
   "source": [
    "# Number of generators\n",
    "num_generators = 3\n",
    "\n",
    "# Fixed startup cost ($) for each generator (not used in optimization)\n",
    "startup_cost = np.array([100, 120, 90])\n",
    "\n",
    "# Cost per MW ($/MW) for each generator (linear fuel cost)\n",
    "fuel_cost = np.array([10, 12, 9])\n",
    "\n",
    "# Quadratic cost coefficients (representing diminishing returns on cost as power increases)\n",
    "quad_cost = np.array([0.05, 0.04, 0.06])\n",
    "\n",
    "# Minimum and maximum power each generator can produce (MW)\n",
    "P_min = np.array([50, 60, 40])\n",
    "P_max = np.array([200, 180, 150])\n",
    "\n",
    "# Total power demand (MW)\n",
    "P_demand = 400\n",
    "\n",
    "print(\"Generator data is set up.\")"
   ]
  },
  {
   "cell_type": "markdown",
   "metadata": {},
   "source": [
    "---\n",
    "\n",
    "## Step 3: Define the Power Balance Constraint\n",
    "\n",
    "To keep the **power grid stable**, the **total power generated must exactly match the total demand**:\n",
    "\n",
    "$$ \\sum_{i=1}^{n} P_i = P_{\\text{demand}} $$\n",
    "\n",
    "```python\n",
    "# Constraint: Total power must equal demand\n",
    "A_eq = np.ones((1, num_generators))  # Ensures sum of power outputs equals demand\n",
    "b_eq = np.array([P_demand])  # Total power demand constraint\n",
    "\n",
    "print(\"Power balance constraint is defined.\")\n",
    "print(\"A_eq matrix:\", A_eq)\n",
    "print(\"b_eq vector:\", b_eq)\n",
    "```\n",
    "\n"
   ]
  },
  {
   "cell_type": "code",
   "execution_count": 4,
   "metadata": {},
   "outputs": [
    {
     "name": "stdout",
     "output_type": "stream",
     "text": [
      "Power balance constraint is defined.\n",
      "A_eq matrix: [[1. 1. 1.]]\n",
      "b_eq vector: [400]\n"
     ]
    }
   ],
   "source": [
    "# Constraint: Total power must equal demand\n",
    "A_eq = np.ones((1, num_generators))  # Ensures sum of power outputs equals demand\n",
    "b_eq = np.array([P_demand])  # Total power demand constraint\n",
    "\n",
    "print(\"Power balance constraint is defined.\")\n",
    "print(\"A_eq matrix:\", A_eq)\n",
    "print(\"b_eq vector:\", b_eq)"
   ]
  },
  {
   "cell_type": "markdown",
   "metadata": {},
   "source": [
    "---\n",
    "\n",
    "## **Step 4: Define the Cost Function**\n",
    "\n",
    "The cost function in **quadratic programming** consists of both **linear and quadratic terms**.\n",
    "\n",
    "The **quadratic objective function** is:\n",
    "\n",
    "$$\n",
    "\\min \\sum_{i=1}^{n} ( c_i P_i + q_i P_i^2 )\n",
    "$$\n",
    "\n",
    "In **matrix form**, this is rewritten as:\n",
    "\n",
    "$$\n",
    "\\min \\frac{1}{2} P^T \\text{diag}(q) P + c^T P\n",
    "$$\n",
    "\n",
    "where:\n",
    "- $ c_i $ is the **linear fuel cost per MW** for generator $ i $.\n",
    "- $ q_i $ is the **quadratic cost coefficient** for generator $ i $.\n",
    "- $ P_i $ is the **power produced** by generator $ i $.\n",
    "- $ T $ represents the **transpose operation**, which converts a column vector into a row vector.\n",
    "- $ \\text{diag}(q) $ denotes the **diagonal matrix** formed by placing the elements of $ q $ along the diagonal, ensuring that each generator’s quadratic cost is applied independently.\n",
    "\n",
    "```python\n",
    "# Define the cost function\n",
    "def cost_function(P):\n",
    "    return 0.5 * P.T @ np.diag(quad_cost) @ P + np.sum(fuel_cost * P)\n",
    "\n",
    "print(\"Objective function (quadratic cost minimization) is defined.\")\n",
    "```"
   ]
  },
  {
   "cell_type": "code",
   "execution_count": 5,
   "metadata": {},
   "outputs": [
    {
     "name": "stdout",
     "output_type": "stream",
     "text": [
      "Objective function (quadratic cost minimization) is defined.\n"
     ]
    }
   ],
   "source": [
    "def cost_function(P):\n",
    "    return 0.5 * P.T @ np.diag(quad_cost) @ P + np.sum(fuel_cost * P)\n",
    "\n",
    "print(\"Objective function (quadratic cost minimization) is defined.\")"
   ]
  },
  {
   "cell_type": "markdown",
   "metadata": {},
   "source": [
    "## **Step 5: Solve Using Quadratic Programming**  \n",
    "\n",
    "We use **Python’s `scipy.optimize.minimize` function** with the **trust-constr** method, which is suitable for **quadratic problems with constraints**.\n",
    "\n",
    "---\n",
    "\n",
    "### **Understanding `minimize` Function**\n",
    "- **Objective function** → `cost_function(P)`, which calculates the **total generation cost** (linear + quadratic terms).  \n",
    "- **Equality constraint** → Ensures the **total power generation meets demand**.  \n",
    "- **Bounds** → Each generator operates within **its minimum and maximum limits**.  \n",
    "- **Hessian function** → Provides **second-order derivatives** to optimize the quadratic cost efficiently.  "
   ]
  },
  {
   "cell_type": "code",
   "execution_count": null,
   "metadata": {},
   "outputs": [
    {
     "name": "stdout",
     "output_type": "stream",
     "text": [
      "\n",
      "Optimal power dispatch solution:\n",
      "[140.54053871 125.67567953 133.78378177]\n",
      "Total Cost: $5464.19\n"
     ]
    }
   ],
   "source": [
    "# Define the equality constraint (power balance)\n",
    "constraints = ({'type': 'eq', 'fun': lambda P: np.sum(P) - P_demand})\n",
    "\n",
    "# Define bounds for each generator\n",
    "bounds = list(zip(P_min, P_max))\n",
    "\n",
    "# Initial guess (evenly distributed power)\n",
    "P_initial = np.full(num_generators, P_demand / num_generators)\n",
    "\n",
    "def hessian_function(P, *args):\n",
    "    \"\"\"Return the constant Hessian matrix to avoid numerical approximation errors.\"\"\"\n",
    "    return np.diag(quad_cost)  # The Hessian is constant (diagonal quadratic cost matrix)\n",
    "\n",
    "# Solve using Quadratic Programming\n",
    "result = minimize(cost_function, P_initial, method=\"trust-constr\", bounds=bounds, constraints=constraints,  hess=hessian_function)\n",
    "\n",
    "# Extract results\n",
    "P_opt = result.x\n",
    "total_cost = result.fun\n",
    "\n",
    "print(\"\\nOptimal power dispatch solution:\")\n",
    "print(P_opt)\n",
    "print(f\"Total Cost: ${total_cost:.2f}\")\n"
   ]
  },
  {
   "cell_type": "markdown",
   "metadata": {},
   "source": [
    "---\n",
    "\n",
    "## Step 6: Visualizing the Results\n",
    "\n",
    "To better understand the results, we **plot the optimal power distribution** among the generators.\n",
    "\n",
    "```python\n",
    "# Plot the power allocation for each generator\n",
    "plt.figure(figsize=(8, 5))\n",
    "plt.bar(range(1, num_generators + 1), P_opt, color='b')\n",
    "plt.xlabel(\"Generator Index\")\n",
    "plt.ylabel(\"Power Output (MW)\")\n",
    "plt.title(\"Optimal Power Dispatch\")\n",
    "plt.grid(True)\n",
    "plt.show()\n",
    "```\n",
    "\n"
   ]
  },
  {
   "cell_type": "code",
   "execution_count": 9,
   "metadata": {},
   "outputs": [
    {
     "data": {
      "image/png": "[encoded data removed]",
      "text/plain": [
       "<Figure size 800x500 with 1 Axes>"
      ]
     },
     "metadata": {},
     "output_type": "display_data"
    }
   ],
   "source": [
    "# Plot the power allocation for each generator\n",
    "plt.figure(figsize=(8, 5))\n",
    "plt.bar(range(1, num_generators + 1), P_opt, color='b')\n",
    "plt.xlabel(\"Generator Index\")\n",
    "plt.ylabel(\"Power Output (MW)\")\n",
    "plt.title(\"Optimal Power Dispatch\")\n",
    "plt.grid(True)\n",
    "plt.show()"
   ]
  },
  {
   "cell_type": "markdown",
   "metadata": {},
   "source": [
    "---\n",
    "\n",
    "## Step 7: More Realistic Case (7 Generators)\n",
    "\n",
    "We now consider **7 generators** with different costs and power limits.\n"
   ]
  },
  {
   "cell_type": "code",
   "execution_count": 10,
   "metadata": {},
   "outputs": [
    {
     "name": "stdout",
     "output_type": "stream",
     "text": [
      "\n",
      "Optimal Power Dispatch for 7 Generators (Quadratic Programming):\n",
      "[136.73469911 120.91836652 130.61224908  70.00000007 116.73468301\n",
      "  65.00000227 159.99999994]\n",
      "Total Cost: $10805.51\n"
     ]
    }
   ],
   "source": [
    "# Step 7.1: Define Generator Data\n",
    "\n",
    "num_generators = 7  # Number of generators\n",
    "\n",
    "# Generator parameters (Startup cost, fuel cost, quadratic cost)\n",
    "startup_cost = np.array([100, 120, 90, 150, 110, 130, 95])  # Not used in optimization\n",
    "fuel_cost = np.array([10, 12, 9, 14, 11, 13, 8])  # Linear fuel cost ($/MW)\n",
    "quad_cost = np.array([0.05, 0.04, 0.06, 0.07, 0.05, 0.06, 0.04])  # Quadratic cost coefficients\n",
    "\n",
    "# Power limits for each generator (MW)\n",
    "P_min = np.array([50, 60, 40, 70, 55, 65, 45])  # Minimum power limits\n",
    "P_max = np.array([200, 180, 150, 220, 190, 210, 160])  # Maximum power limits\n",
    "\n",
    "# Total load demand (MW)\n",
    "P_demand = 800\n",
    "\n",
    "# ===================================================================================\n",
    "# Step 7.2: Define Optimization Constraints\n",
    "\n",
    "# Power balance constraint: Ensures total power output equals demand\n",
    "A_eq = np.ones((1, num_generators))  \n",
    "b_eq = np.array([P_demand])  \n",
    "\n",
    "# Define generator power limits as bounds\n",
    "bounds = list(zip(P_min, P_max))\n",
    "\n",
    "# Define the quadratic cost matrix (equivalent to MATLAB's diag(quad_cost))\n",
    "Q = np.diag(quad_cost)\n",
    "\n",
    "# ===================================================================================\n",
    "# Step 7.3: Define Cost Function (Objective Function)\n",
    "\n",
    "def cost_function(P):\n",
    "    \"\"\"Compute the total cost, including quadratic and linear terms.\"\"\"\n",
    "    return 0.5 * P.T @ Q @ P + np.sum(fuel_cost * P)\n",
    "\n",
    "# Define the equality constraint in Python format (ensures power balance)\n",
    "constraints = ({'type': 'eq', 'fun': lambda P: np.sum(P) - P_demand})\n",
    "\n",
    "# Initial guess: Evenly distribute the power demand among generators\n",
    "P_initial = np.full(num_generators, P_demand / num_generators)\n",
    "\n",
    "# ===================================================================================\n",
    "# Step 7.4: Define Hessian Function (Fixed)\n",
    "\n",
    "def hessian_function(P, *args):\n",
    "    \"\"\"Return the constant Hessian matrix (Q) to avoid numerical approximation errors.\"\"\"\n",
    "    return Q  # The Hessian is constant (diagonal quadratic cost matrix)\n",
    "\n",
    "# ===================================================================================\n",
    "# Step 7.5: Solve Using Quadratic Programming (Trust-Constr Method)\n",
    "\n",
    "result = minimize(cost_function, P_initial, method=\"trust-constr\",\n",
    "                  bounds=bounds, constraints=constraints, hess=hessian_function)\n",
    "\n",
    "# Extract results\n",
    "P_opt = result.x\n",
    "total_cost = result.fun\n",
    "\n",
    "# ===================================================================================\n",
    "# Step 7.6: Display the Results\n",
    "\n",
    "print(\"\\nOptimal Power Dispatch for 7 Generators (Quadratic Programming):\")\n",
    "print(P_opt)\n",
    "print(f\"Total Cost: ${total_cost:.2f}\")"
   ]
  },
  {
   "cell_type": "markdown",
   "metadata": {},
   "source": [
    "---\n",
    "\n",
    "## Step 8: Visualizing the 7-Generator Case\n",
    "\n",
    "```python\n",
    "# Visualization: Bar Chart\n",
    "plt.figure(figsize=(8, 5))\n",
    "plt.bar(range(1, num_generators + 1), P_opt, color='b')\n",
    "plt.xlabel(\"Generator Number\")\n",
    "plt.ylabel(\"Power Output (MW)\")\n",
    "plt.title(\"Optimal Power Dispatch for 7 Generators (Quadratic Programming)\")\n",
    "plt.grid(True)\n",
    "plt.xticks(range(1, num_generators + 1))\n",
    "plt.ylim([0, max(P_max) + 20])\n",
    "plt.show()\n",
    "```\n"
   ]
  },
  {
   "cell_type": "code",
   "execution_count": 11,
   "metadata": {},
   "outputs": [
    {
     "data": {
      "image/png": "[encoded data removed]",
      "text/plain": [
       "<Figure size 800x500 with 1 Axes>"
      ]
     },
     "metadata": {},
     "output_type": "display_data"
    }
   ],
   "source": [
    "# Visualization: Bar Chart\n",
    "plt.figure(figsize=(8, 5))\n",
    "plt.bar(range(1, num_generators + 1), P_opt, color='b')\n",
    "plt.xlabel(\"Generator Number\")\n",
    "plt.ylabel(\"Power Output (MW)\")\n",
    "plt.title(\"Optimal Power Dispatch for 7 Generators (Quadratic Programming)\")\n",
    "plt.grid(True)\n",
    "plt.xticks(range(1, num_generators + 1))\n",
    "plt.ylim([0, max(P_max) + 20])\n",
    "plt.show()"
   ]
  },
  {
   "cell_type": "markdown",
   "metadata": {},
   "source": [
    "---\n",
    "\n",
    "## **Step 9: Summary**\n",
    "\n",
    "- **Defined** the economic dispatch problem using **quadratic programming**.\n",
    "- **Formulated** the cost function with **both linear and quadratic components**.\n",
    "- **Explained** the **mathematical transformation** from scalar form to matrix form.\n",
    "- **Clarified the role of `0.5` in the quadratic term**.\n",
    "- **Explained `minimize` function parameters** and solver alternatives.\n",
    "- **Solved** the optimization problem using **`scipy.optimize.minimize`**.\n",
    "- **Visualized** the optimal power allocation among generators.\n",
    "\n",
    "---\n",
    "\n",
    "### **Mathematical Summary**\n",
    "\n",
    "#### **🔹 Step 1: Understanding the Scalar Form**  \n",
    "The cost function for each generator $ i $ is typically modeled as:\n",
    "\n",
    "$$\n",
    "\\min \\sum_{i=1}^{n} ( c_i P_i + q_i P_i^2 )\n",
    "$$\n",
    "\n",
    "where:\n",
    "- $ c_i $ is the **linear fuel cost per MW** for generator $ i $.\n",
    "- $ q_i $ is the **quadratic cost coefficient** for generator $ i $.\n",
    "- $ P_i $ is the **power produced** by generator $ i $.\n",
    "\n",
    "The **linear term** ($ c_i P_i $) represents a **constant fuel rate**, while the **quadratic term** ($ q_i P_i^2 $) models the increasing cost of generation due to **diminishing efficiency** at higher loads.\n",
    "\n",
    "---\n",
    "\n",
    "#### **🔹 Step 2: Converting to Matrix Form**  \n",
    "For **multiple generators**, we express the function in **matrix notation** for computational efficiency:\n",
    "\n",
    "$$\n",
    "\\min \\frac{1}{2} P^T \\text{diag}(q) P + c^T P\n",
    "$$\n",
    "\n",
    "where:\n",
    "- $ P $ is an **$ n \\times 1 $** vector representing power generation for all generators:\n",
    "\n",
    "  $$\n",
    "  P = \\begin{bmatrix} P_1 \\\\ P_2 \\\\ \\vdots \\\\ P_n \\end{bmatrix}\n",
    "  $$\n",
    "\n",
    "- $ c $ is an **$ n \\times 1 $** vector containing the **linear fuel cost coefficients**:\n",
    "\n",
    "  $$\n",
    "  c = \\begin{bmatrix} c_1 \\\\ c_2 \\\\ \\vdots \\\\ c_n \\end{bmatrix}\n",
    "  $$\n",
    "\n",
    "- $ q $ is an **$ n \\times 1 $** vector containing the **quadratic cost coefficients**:\n",
    "\n",
    "  $$\n",
    "  q = \\begin{bmatrix} q_1 \\\\ q_2 \\\\ \\vdots \\\\ q_n \\end{bmatrix}\n",
    "  $$\n",
    "\n",
    "- $ \\text{diag}(q) $ is an **$ n \\times n $** diagonal matrix that ensures each generator's quadratic cost is applied only to itself:\n",
    "\n",
    "  $$\n",
    "  \\text{diag}(q) =\n",
    "  \\begin{bmatrix}\n",
    "  q_1 & 0 & 0 & \\dots & 0 \\\\\n",
    "  0 & q_2 & 0 & \\dots & 0 \\\\\n",
    "  0 & 0 & q_3 & \\dots & 0 \\\\\n",
    "  \\vdots & \\vdots & \\vdots & \\ddots & \\vdots \\\\\n",
    "  0 & 0 & 0 & \\dots & q_n\n",
    "  \\end{bmatrix}\n",
    "  $$\n",
    "\n",
    "---\n",
    "\n",
    "#### **🔹 Why Use `0.5` in the Quadratic Term?**\n",
    "- The **quadratic term is typically written as $ P^T H P $ in standard QP solvers**.\n",
    "- However, during optimization, the solver **automatically computes the gradient $ \\nabla P^T H P = 2 H P $**.\n",
    "- To **prevent doubling the effect of the quadratic term**, we **explicitly multiply by `0.5`**.\n",
    "\n",
    "Thus, the **final quadratic objective function** remains:\n",
    "\n",
    "$$\n",
    "\\min \\frac{1}{2} P^T \\text{diag}(q) P + c^T P\n",
    "$$\n",
    "\n",
    "---\n",
    "\n",
    "### **Additional Constraints**\n",
    "\n",
    "1. **Total Power Balance Constraint**:\n",
    "\n",
    "   $$\n",
    "   \\sum_{i=1}^{n} P_i = P_{\\text{demand}}\n",
    "   $$\n",
    "\n",
    "2. **Quadratic Cost Function**:\n",
    "\n",
    "   $$\n",
    "   \\min \\sum_{i=1}^{n} ( c_i P_i + q_i P_i^2 )\n",
    "   $$\n",
    "\n",
    "3. **Bound Constraints**:\n",
    "\n",
    "   $$\n",
    "   P_{\\min, i} \\leq P_i \\leq P_{\\max, i}\n",
    "   $$"
   ]
  },
  {
   "cell_type": "markdown",
   "metadata": {},
   "source": []
  }
 ],
 "metadata": {
  "kernelspec": {
   "display_name": "Python 3",
   "language": "python",
   "name": "python3"
  },
  "language_info": {
   "codemirror_mode": {
    "name": "ipython",
    "version": 3
   },
   "file_extension": ".py",
   "mimetype": "text/x-python",
   "name": "python",
   "nbconvert_exporter": "python",
   "pygments_lexer": "ipython3",
   "version": "3.13.1"
  }
 },
 "nbformat": 4,
 "nbformat_minor": 2
}
