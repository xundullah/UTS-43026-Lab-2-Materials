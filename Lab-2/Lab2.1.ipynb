{
 "cells": [
  {
   "cell_type": "markdown",
   "metadata": {},
   "source": [
    "# Lab 2-1: Economic Dispatch of Generators in a Power System\n",
    "## 43026 Energy Economics, Optimisation and Policy\n",
    "### Autumn 2025\n",
    "### Linear Programming Approach using Python"
   ]
  },
  {
   "cell_type": "markdown",
   "metadata": {},
   "source": [
    "---\n",
    "\n",
    "## Lab Overview\n",
    "\n",
    "This Python-based Jupyter Notebook helps you to understand **economic dispatch**. Our objective is to find the best way to distribute power generation among multiple generators at the **lowest cost** while ensuring that the **total power demand is met**.\n",
    "\n",
    "We use **Linear Programming (LP)**, a mathematical optimization method to **minimize costs while satisfying constraints**.\n",
    "\n",
    "### In this Lab, We Will Learn:\n",
    "- How to **represent generator costs** in a simple form.\n",
    "- How to **set up constraints** to ensure demand is met.\n",
    "- How to **use Python’s `scipy.optimize.linprog` function** to solve the problem."
   ]
  },
  {
   "cell_type": "markdown",
   "metadata": {},
   "source": [
    "---\n",
    "## Python Environment Setup by Installing Required Python Libraries\n",
    "\n",
    "Before running the code, ensure you have the necessary packages installed.\n",
    "\n",
    "```python\n",
    "!pip install numpy\n",
    "!pip install -U matplotlib\n",
    "!pip install scipy"
   ]
  },
  {
   "cell_type": "code",
   "execution_count": 1,
   "metadata": {},
   "outputs": [
    {
     "name": "stdout",
     "output_type": "stream",
     "text": [
      "Defaulting to user installation because normal site-packages is not writeable\n",
      "Requirement already satisfied: numpy in c:\\users\\rbmxu\\appdata\\roaming\\python\\python313\\site-packages (2.2.3)\n"
     ]
    },
    {
     "name": "stderr",
     "output_type": "stream",
     "text": [
      "\n",
      "[notice] A new release of pip is available: 24.3.1 -> 25.0.1\n",
      "[notice] To update, run: python.exe -m pip install --upgrade pip\n"
     ]
    },
    {
     "name": "stdout",
     "output_type": "stream",
     "text": [
      "Defaulting to user installation because normal site-packages is not writeable\n",
      "Requirement already satisfied: matplotlib in c:\\users\\rbmxu\\appdata\\roaming\\python\\python313\\site-packages (3.10.1)\n",
      "Requirement already satisfied: contourpy>=1.0.1 in c:\\users\\rbmxu\\appdata\\roaming\\python\\python313\\site-packages (from matplotlib) (1.3.1)\n",
      "Requirement already satisfied: cycler>=0.10 in c:\\users\\rbmxu\\appdata\\roaming\\python\\python313\\site-packages (from matplotlib) (0.12.1)\n",
      "Requirement already satisfied: fonttools>=4.22.0 in c:\\users\\rbmxu\\appdata\\roaming\\python\\python313\\site-packages (from matplotlib) (4.56.0)\n",
      "Requirement already satisfied: kiwisolver>=1.3.1 in c:\\users\\rbmxu\\appdata\\roaming\\python\\python313\\site-packages (from matplotlib) (1.4.8)\n",
      "Requirement already satisfied: numpy>=1.23 in c:\\users\\rbmxu\\appdata\\roaming\\python\\python313\\site-packages (from matplotlib) (2.2.3)\n",
      "Requirement already satisfied: packaging>=20.0 in c:\\users\\rbmxu\\appdata\\roaming\\python\\python313\\site-packages (from matplotlib) (24.2)\n",
      "Requirement already satisfied: pillow>=8 in c:\\users\\rbmxu\\appdata\\roaming\\python\\python313\\site-packages (from matplotlib) (11.1.0)\n",
      "Requirement already satisfied: pyparsing>=2.3.1 in c:\\users\\rbmxu\\appdata\\roaming\\python\\python313\\site-packages (from matplotlib) (3.2.1)\n",
      "Requirement already satisfied: python-dateutil>=2.7 in c:\\users\\rbmxu\\appdata\\roaming\\python\\python313\\site-packages (from matplotlib) (2.9.0.post0)\n",
      "Requirement already satisfied: six>=1.5 in c:\\users\\rbmxu\\appdata\\roaming\\python\\python313\\site-packages (from python-dateutil>=2.7->matplotlib) (1.17.0)\n"
     ]
    },
    {
     "name": "stderr",
     "output_type": "stream",
     "text": [
      "\n",
      "[notice] A new release of pip is available: 24.3.1 -> 25.0.1\n",
      "[notice] To update, run: python.exe -m pip install --upgrade pip\n"
     ]
    },
    {
     "name": "stdout",
     "output_type": "stream",
     "text": [
      "Defaulting to user installation because normal site-packages is not writeable\n",
      "Requirement already satisfied: scipy in c:\\users\\rbmxu\\appdata\\roaming\\python\\python313\\site-packages (1.15.2)\n",
      "Requirement already satisfied: numpy<2.5,>=1.23.5 in c:\\users\\rbmxu\\appdata\\roaming\\python\\python313\\site-packages (from scipy) (2.2.3)\n"
     ]
    },
    {
     "name": "stderr",
     "output_type": "stream",
     "text": [
      "\n",
      "[notice] A new release of pip is available: 24.3.1 -> 25.0.1\n",
      "[notice] To update, run: python.exe -m pip install --upgrade pip\n"
     ]
    }
   ],
   "source": [
    "!pip install numpy\n",
    "!pip install -U matplotlib\n",
    "!pip install scipy"
   ]
  },
  {
   "cell_type": "markdown",
   "metadata": {},
   "source": [
    "---\n",
    "\n",
    "## Step 1: What is Economic Dispatch?\n",
    "\n",
    "**Economic dispatch** is the process of allocating power generation among available generators in a power system such that the **total operating cost** is minimized while meeting the required demand.\n",
    "\n",
    "Let's assume we have **3 power generators**. Each generator has:\n",
    "1. **A fixed startup cost** (cost when turned on).\n",
    "2. **A fuel cost** that increases as it produces more power.\n",
    "3. **A minimum and maximum power output limit**.\n",
    "\n",
    "**Goal:** Find the **best power distribution** among these generators to **minimize cost** while ensuring that the **total demand is met**.\n"
   ]
  },
  {
   "cell_type": "markdown",
   "metadata": {},
   "source": [
    "\n",
    "---\n",
    "\n",
    "## Step 2: Define Generator Data\n",
    "\n",
    "Each generator has:\n",
    "- **A fixed startup cost** (in dollars).\n",
    "- **A fuel cost per MW** (how much it costs to produce 1 MW of power).\n",
    "- **A minimum and maximum power limit**.\n",
    "\n",
    "```python\n",
    "import numpy as np\n",
    "import matplotlib.pyplot as plt\n",
    "from scipy.optimize import linprog\n",
    "\n",
    "# Number of generators\n",
    "num_generators = 3\n",
    "\n",
    "# Fixed startup cost ($) for each generator (not used in optimization)\n",
    "startup_cost = np.array([100, 120, 90])\n",
    "\n",
    "# Cost per MW ($/MW) for each generator\n",
    "fuel_cost = np.array([10, 12, 9])\n",
    "\n",
    "# Minimum and maximum power each generator can produce (MW)\n",
    "P_min = np.array([50, 60, 40])\n",
    "P_max = np.array([200, 180, 150])\n",
    "\n",
    "# Total power demand (MW)\n",
    "P_demand = 400\n",
    "\n",
    "print(\"Generator data is set up.\")\n",
    "```\n"
   ]
  },
  {
   "cell_type": "code",
   "execution_count": 2,
   "metadata": {},
   "outputs": [
    {
     "name": "stdout",
     "output_type": "stream",
     "text": [
      "Generator data is set up.\n"
     ]
    }
   ],
   "source": [
    "import numpy as np\n",
    "import matplotlib.pyplot as plt\n",
    "from scipy.optimize import linprog\n",
    "\n",
    "# Number of generators\n",
    "num_generators = 3\n",
    "\n",
    "# Fixed startup cost ($) for each generator (not used in optimization)\n",
    "startup_cost = np.array([100, 120, 90])\n",
    "\n",
    "# Cost per MW ($/MW) for each generator\n",
    "fuel_cost = np.array([10, 12, 9])\n",
    "\n",
    "# Minimum and maximum power each generator can produce (MW)\n",
    "P_min = np.array([50, 60, 40])\n",
    "P_max = np.array([200, 180, 150])\n",
    "\n",
    "# Total power demand (MW)\n",
    "P_demand = 400\n",
    "\n",
    "print(\"Generator data is set up.\")"
   ]
  },
  {
   "cell_type": "markdown",
   "metadata": {},
   "source": [
    "\n",
    "---\n",
    "\n",
    "## Step 3: Define the Power Balance Constraint\n",
    "\n",
    "To keep the **power grid stable**, the **total power generated** must exactly match the **total demand**:\n",
    "\n",
    "$$ \\sum_{i=1}^{n} P_i = P_{\\text{demand}} $$\n",
    "\n",
    "```python\n",
    "# Constraint: Total power must equal demand\n",
    "A_eq = np.ones((1, num_generators))  # Sum of power should be equal to demand\n",
    "b_eq = np.array([P_demand])\n",
    "print(\"Power balance constraint is defined.\")\n",
    "```\n"
   ]
  },
  {
   "cell_type": "code",
   "execution_count": 3,
   "metadata": {},
   "outputs": [
    {
     "name": "stdout",
     "output_type": "stream",
     "text": [
      "Power balance constraint is defined.\n",
      "A_eq matrix: [[1. 1. 1.]]\n",
      "b_eq vector: [400]\n"
     ]
    }
   ],
   "source": [
    "# Constraint: Total power must equal demand\n",
    "A_eq = np.ones((1, num_generators))  # Ensures sum of power outputs equals demand\n",
    "b_eq = np.array([P_demand])  # Total power demand constraint\n",
    "\n",
    "print(\"Power balance constraint is defined.\")\n",
    "print(\"A_eq matrix:\", A_eq)\n",
    "print(\"b_eq vector:\", b_eq)"
   ]
  },
  {
   "cell_type": "markdown",
   "metadata": {},
   "source": [
    "\n",
    "---\n",
    "\n",
    "## Step 4: Define the Cost Function\n",
    "\n",
    "The cost we want to **minimize** is:\n",
    "\n",
    "$$ \\min \\sum_{i=1}^{n} c_i P_i $$\n",
    "\n",
    "where:\n",
    "- $ c_i $ is the **fuel cost per MW** for generator $ i $.\n",
    "- $ P_i $ is the **power produced** by generator $ i $.\n",
    "\n",
    "Since we **ignore startup costs** at this step, we **only consider the fuel cost per MW**.\n",
    "\n",
    "```python\n",
    "# Cost function: Minimize total fuel cost\n",
    "f = fuel_cost\n",
    "print(\"Objective function (cost minimization) is defined.\")\n",
    "```\n"
   ]
  },
  {
   "cell_type": "code",
   "execution_count": 4,
   "metadata": {},
   "outputs": [
    {
     "name": "stdout",
     "output_type": "stream",
     "text": [
      "Objective function (cost minimization) is defined.\n",
      "Cost function coefficients: [10 12  9]\n"
     ]
    }
   ],
   "source": [
    "# Cost function: Minimize total fuel cost\n",
    "f = fuel_cost\n",
    "print(\"Objective function (cost minimization) is defined.\")\n",
    "print(\"Cost function coefficients:\", f)"
   ]
  },
  {
   "cell_type": "markdown",
   "metadata": {},
   "source": [
    "\n",
    "---\n",
    "\n",
    "## Step 5: Solve Using Linear Programming\n",
    "\n",
    "We use **Python’s Linear Programming (`scipy.optimize.linprog`)** function.\n",
    "\n",
    "The function takes:\n",
    "- **f** → **Cost function**\n",
    "- **Constraints (A_eq, b_eq)** → **Power balance condition**\n",
    "- **Bounds (lb, ub)** → **Minimum and maximum power for each generator**\n",
    "\n",
    "### **Understanding the `linprog` function**\n",
    "The `scipy.optimize.linprog` function solves **linear programming problems** of the form:\n",
    "\n",
    "$$ \\min c^T x $$\n",
    "\n",
    "subject to:\n",
    "- **Equality constraint**: $ Ax = b $\n",
    "- **Bounds**: $ l \\leq x \\leq u $\n",
    "\n",
    "We solve using the **\"highs\"** method, which is:\n",
    "- **Fast and efficient** for large problems.\n",
    "- **Alternative solvers**: `\"interior-point\"`, `\"revised simplex\"`, `\"simplex\"`.\n",
    "\n",
    "\n",
    "```python\n",
    "# Set generator limits (bounds)\n",
    "bounds = list(zip(P_min, P_max))\n",
    "\n",
    "# Solve using Linear Programming\n",
    "result = linprog(f, A_eq=A_eq, b_eq=b_eq, bounds=bounds, method=\"highs\")\n",
    "\n",
    "# Extract results\n",
    "P_opt = result.x\n",
    "total_cost = result.fun\n",
    "\n",
    "print(\"Optimal power dispatch solution:\")\n",
    "print(P_opt)\n",
    "print(f\"Total Cost: ${total_cost:.2f}\")\n",
    "```\n"
   ]
  },
  {
   "cell_type": "code",
   "execution_count": 5,
   "metadata": {},
   "outputs": [
    {
     "name": "stdout",
     "output_type": "stream",
     "text": [
      "Optimal power dispatch solution:\n",
      "[190.  60. 150.]\n",
      "Total Cost: $3970.00\n"
     ]
    }
   ],
   "source": [
    "# Set generator limits (bounds)\n",
    "bounds = list(zip(P_min, P_max))\n",
    "\n",
    "# Solve using Linear Programming\n",
    "result = linprog(f, A_eq=A_eq, b_eq=b_eq, bounds=bounds, method=\"highs\")\n",
    "\n",
    "# Extract results\n",
    "P_opt = result.x\n",
    "total_cost = result.fun\n",
    "\n",
    "print(\"Optimal power dispatch solution:\")\n",
    "print(P_opt)\n",
    "print(f\"Total Cost: ${total_cost:.2f}\")"
   ]
  },
  {
   "cell_type": "markdown",
   "metadata": {},
   "source": [
    "\n",
    "---\n",
    "\n",
    "## Step 6: Visualizing the Results\n",
    "\n",
    "To better understand the results, we plot the **optimal power distribution** among the generators.\n",
    "\n",
    "```python\n",
    "# Plot the power allocation for each generator\n",
    "plt.figure(figsize=(8, 5))\n",
    "plt.bar(range(1, num_generators + 1), P_opt, color='b')\n",
    "plt.xlabel(\"Generator Index\")\n",
    "plt.ylabel(\"Power Output (MW)\")\n",
    "plt.title(\"Optimal Power Dispatch\")\n",
    "plt.grid(True)\n",
    "plt.show()\n",
    "```\n"
   ]
  },
  {
   "cell_type": "code",
   "execution_count": 6,
   "metadata": {},
   "outputs": [
    {
     "data": {
      "image/png": "[encoded data removed]",
      "text/plain": [
       "<Figure size 800x500 with 1 Axes>"
      ]
     },
     "metadata": {},
     "output_type": "display_data"
    }
   ],
   "source": [
    "# Plot the power allocation for each generator\n",
    "plt.figure(figsize=(8, 5))\n",
    "plt.bar(range(1, num_generators + 1), P_opt, color='b')\n",
    "plt.xlabel(\"Generator Index\")\n",
    "plt.ylabel(\"Power Output (MW)\")\n",
    "plt.title(\"Optimal Power Dispatch\")\n",
    "plt.grid(True)\n",
    "plt.show()"
   ]
  },
  {
   "cell_type": "markdown",
   "metadata": {},
   "source": [
    "\n",
    "---\n",
    "\n",
    "## Step 7: More Realistic Case (7 Generators)\n",
    "\n",
    "Now, let's **extend the problem** to **7 generators** with similar logic.\n",
    "\n",
    "Note that **new generators have different costs and power limits**.\n",
    "\n",
    "**Updated Conditions:**\n",
    "- The **total power demand increases** to **800 MW**.\n",
    "\n",
    "```python\n",
    "# Number of generators (expanded case)\n",
    "num_generators = 7\n",
    "\n",
    "# Updated generator parameters\n",
    "startup_cost = np.array([100, 120, 90, 150, 110, 130, 95])\n",
    "fuel_cost = np.array([10, 12, 9, 14, 11, 13, 8])\n",
    "\n",
    "# Power limits for each generator (MW)\n",
    "P_min = np.array([50, 60, 40, 70, 55, 65, 45])\n",
    "P_max = np.array([200, 180, 150, 220, 190, 210, 160])\n",
    "\n",
    "# Load demand (MW)\n",
    "P_demand = 800\n",
    "\n",
    "# Define new constraints\n",
    "A_eq = np.ones((1, num_generators))  # Ensures sum of power outputs equals demand\n",
    "b_eq = np.array([P_demand])  # Total power demand constraint\n",
    "```\n"
   ]
  },
  {
   "cell_type": "code",
   "execution_count": 7,
   "metadata": {},
   "outputs": [],
   "source": [
    "# Number of generators (expanded case)\n",
    "num_generators = 7\n",
    "\n",
    "# Updated generator parameters\n",
    "startup_cost = np.array([100, 120, 90, 150, 110, 130, 95])\n",
    "fuel_cost = np.array([10, 12, 9, 14, 11, 13, 8])\n",
    "\n",
    "# Power limits for each generator (MW)\n",
    "P_min = np.array([50, 60, 40, 70, 55, 65, 45])\n",
    "P_max = np.array([200, 180, 150, 220, 190, 210, 160])\n",
    "\n",
    "# Load demand (MW)\n",
    "P_demand = 800\n",
    "\n",
    "# Define new constraints\n",
    "A_eq = np.ones((1, num_generators))  # Ensures sum of power outputs equals demand\n",
    "b_eq = np.array([P_demand])  # Total power demand constraint"
   ]
  },
  {
   "cell_type": "markdown",
   "metadata": {},
   "source": [
    "\n",
    "---\n",
    "\n",
    "## Step 8: Solve for 7 Generators\n",
    "\n",
    "```python\n",
    "# Set generator limits (bounds)\n",
    "bounds = list(zip(P_min, P_max))\n",
    "\n",
    "# Solve using Linear Programming\n",
    "result = linprog(fuel_cost, A_eq=A_eq, b_eq=b_eq, bounds=bounds, method=\"highs\")\n",
    "\n",
    "# Extract results\n",
    "P_opt = result.x\n",
    "total_cost = result.fun\n",
    "\n",
    "print(\"Optimal Power Dispatch for 7 Generators:\")\n",
    "print(P_opt)\n",
    "print(f\"Total Cost: ${total_cost:.2f}\")\n",
    "```\n"
   ]
  },
  {
   "cell_type": "code",
   "execution_count": 8,
   "metadata": {},
   "outputs": [
    {
     "name": "stdout",
     "output_type": "stream",
     "text": [
      "Optimal Power Dispatch for 7 Generators:\n",
      "[200.  60. 150.  70.  95.  65. 160.]\n",
      "Total Cost: $8220.00\n"
     ]
    }
   ],
   "source": [
    "# Set generator limits (bounds)\n",
    "bounds = list(zip(P_min, P_max))\n",
    "\n",
    "# Solve using Linear Programming\n",
    "result = linprog(fuel_cost, A_eq=A_eq, b_eq=b_eq, bounds=bounds, method=\"highs\")\n",
    "\n",
    "# Extract results\n",
    "P_opt = result.x\n",
    "total_cost = result.fun\n",
    "\n",
    "print(\"Optimal Power Dispatch for 7 Generators:\")\n",
    "print(P_opt)\n",
    "print(f\"Total Cost: ${total_cost:.2f}\")"
   ]
  },
  {
   "cell_type": "markdown",
   "metadata": {},
   "source": [
    "\n",
    "---\n",
    "\n",
    "## Step 9: Visualizing the 7-Generator Case\n",
    "\n",
    "```python\n",
    "# Visualization: Bar Chart\n",
    "plt.figure(figsize=(8, 5))\n",
    "plt.bar(range(1, num_generators + 1), P_opt, color='b')\n",
    "plt.xlabel(\"Generator Number\")\n",
    "plt.ylabel(\"Power Output (MW)\")\n",
    "plt.title(\"Optimal Power Dispatch for 7 Generators\")\n",
    "plt.grid(True)\n",
    "plt.xticks(range(1, num_generators + 1))\n",
    "plt.ylim([0, max(P_max) + 20])  # Adjust y-axis limit\n",
    "plt.show()\n",
    "```\n"
   ]
  },
  {
   "cell_type": "code",
   "execution_count": 9,
   "metadata": {},
   "outputs": [
    {
     "data": {
      "image/png": "[encoded data removed]",
      "text/plain": [
       "<Figure size 800x500 with 1 Axes>"
      ]
     },
     "metadata": {},
     "output_type": "display_data"
    }
   ],
   "source": [
    "# Visualization: Bar Chart\n",
    "plt.figure(figsize=(8, 5))\n",
    "plt.bar(range(1, num_generators + 1), P_opt, color='b')\n",
    "plt.xlabel(\"Generator Number\")\n",
    "plt.ylabel(\"Power Output (MW)\")\n",
    "plt.title(\"Optimal Power Dispatch for 7 Generators\")\n",
    "plt.grid(True)\n",
    "plt.xticks(range(1, num_generators + 1))\n",
    "plt.ylim([0, max(P_max) + 20])  # Adjust y-axis limit\n",
    "plt.show()"
   ]
  },
  {
   "cell_type": "markdown",
   "metadata": {},
   "source": [
    "\n",
    "---\n",
    "\n",
    "## Step 10: Summary\n",
    "\n",
    "- We formulated an **economic dispatch problem** using **linear programming**.\n",
    "- We implemented **constraints** to balance power demand.\n",
    "- We optimized the **power distribution** using **Python’s `scipy.optimize.linprog`** function.\n",
    "- We **visualized** the power allocation using **bar charts**.\n",
    "\n",
    "---\n",
    "\n",
    "### **Mathematical Summary**\n",
    "\n",
    "1. **Total Power Balance Constraint**:\n",
    "\n",
    "   $$ \\sum_{i=1}^{n} P_i = P_{\\text{demand}} $$\n",
    "\n",
    "2. **Cost Function**:\n",
    "\n",
    "   $$ \\min \\sum_{i=1}^{n} c_i P_i $$\n",
    "\n",
    "3. **Bound Constraints**:\n",
    "\n",
    "   $$ P_{\\min, i} \\leq P_i \\leq P_{\\max, i} $$"
   ]
  }
 ],
 "metadata": {
  "kernelspec": {
   "display_name": "Python 3",
   "language": "python",
   "name": "python3"
  },
  "language_info": {
   "codemirror_mode": {
    "name": "ipython",
    "version": 3
   },
   "file_extension": ".py",
   "mimetype": "text/x-python",
   "name": "python",
   "nbconvert_exporter": "python",
   "pygments_lexer": "ipython3",
   "version": "3.13.1"
  }
 },
 "nbformat": 4,
 "nbformat_minor": 2
}
