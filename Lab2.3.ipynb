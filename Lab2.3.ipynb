{
 "cells": [
  {
   "cell_type": "markdown",
   "metadata": {},
   "source": [
    "# Lab 2-3: Economic Dispatch of Generators in a Power System\n",
    "## 43026 Energy Economics, Optimisation and Policy\n",
    "### Autumn 2025\n",
    "### Nonlinear Programming Approach using Python"
   ]
  },
  {
   "cell_type": "markdown",
   "metadata": {},
   "source": [
    "---\n",
    "\n",
    "## **Lab Overview**\n",
    "\n",
    "This **Python-based Jupyter Notebook** helps you understand **economic dispatch using Nonlinear Programming (NLP)**. Our objective is to find the best way to **distribute power generation** among multiple generators at the **lowest cost** while ensuring that the **total power demand is met**.\n",
    "\n",
    "Unlike **Linear Programming (LP)**, which assumes a constant fuel cost per MW, and **Quadratic Programming (QP)**, which accounts for diminishing returns in power generation costs, **Nonlinear Programming (NLP)** introduces an **even more realistic approach** by incorporating **cubic cost components**. This captures **nonlinear fuel consumption patterns** more accurately.\n",
    "\n",
    "We use **Nonlinear Programming (NLP)**, a mathematical optimization method that **minimizes linear, quadratic, and cubic cost components** while satisfying constraints.\n",
    "\n",
    "---\n",
    "\n",
    "### **In this Lab, We Will Learn:**\n",
    "- How to **represent generator costs** using **linear, quadratic, and cubic components**.\n",
    "- How to **set up constraints** to ensure demand is met.\n",
    "- How to **use Python’s `scipy.optimize.minimize` function** with the **Sequential Quadratic Programming (SLSQP) method** to solve the **Nonlinear Programming problem**."
   ]
  },
  {
   "cell_type": "markdown",
   "metadata": {},
   "source": [
    "---\n",
    "\n",
    "## Step 1: Install Required Python Libraries\n",
    "\n",
    "Before running the code, ensure you have the necessary packages installed.\n",
    "\n",
    "```python\n",
    "!pip install numpy\n",
    "!pip install -U matplotlib\n",
    "!pip install scipy\n",
    "```\n",
    "\n",
    "Now, import the required libraries.\n",
    "\n",
    "```python\n",
    "import numpy as np\n",
    "import matplotlib.pyplot as plt\n",
    "from scipy.optimize import minimize\n",
    "```\n"
   ]
  },
  {
   "cell_type": "code",
   "execution_count": 1,
   "metadata": {},
   "outputs": [
    {
     "name": "stdout",
     "output_type": "stream",
     "text": [
      "Defaulting to user installation because normal site-packages is not writeable\n",
      "Requirement already satisfied: numpy in c:\\users\\rbmxu\\appdata\\roaming\\python\\python313\\site-packages (2.2.3)\n"
     ]
    },
    {
     "name": "stderr",
     "output_type": "stream",
     "text": [
      "\n",
      "[notice] A new release of pip is available: 24.3.1 -> 25.0.1\n",
      "[notice] To update, run: python.exe -m pip install --upgrade pip\n"
     ]
    },
    {
     "name": "stdout",
     "output_type": "stream",
     "text": [
      "Defaulting to user installation because normal site-packages is not writeable\n",
      "Requirement already satisfied: matplotlib in c:\\users\\rbmxu\\appdata\\roaming\\python\\python313\\site-packages (3.10.1)\n",
      "Requirement already satisfied: contourpy>=1.0.1 in c:\\users\\rbmxu\\appdata\\roaming\\python\\python313\\site-packages (from matplotlib) (1.3.1)\n",
      "Requirement already satisfied: cycler>=0.10 in c:\\users\\rbmxu\\appdata\\roaming\\python\\python313\\site-packages (from matplotlib) (0.12.1)\n",
      "Requirement already satisfied: fonttools>=4.22.0 in c:\\users\\rbmxu\\appdata\\roaming\\python\\python313\\site-packages (from matplotlib) (4.56.0)\n",
      "Requirement already satisfied: kiwisolver>=1.3.1 in c:\\users\\rbmxu\\appdata\\roaming\\python\\python313\\site-packages (from matplotlib) (1.4.8)\n",
      "Requirement already satisfied: numpy>=1.23 in c:\\users\\rbmxu\\appdata\\roaming\\python\\python313\\site-packages (from matplotlib) (2.2.3)\n",
      "Requirement already satisfied: packaging>=20.0 in c:\\users\\rbmxu\\appdata\\roaming\\python\\python313\\site-packages (from matplotlib) (24.2)\n",
      "Requirement already satisfied: pillow>=8 in c:\\users\\rbmxu\\appdata\\roaming\\python\\python313\\site-packages (from matplotlib) (11.1.0)\n",
      "Requirement already satisfied: pyparsing>=2.3.1 in c:\\users\\rbmxu\\appdata\\roaming\\python\\python313\\site-packages (from matplotlib) (3.2.1)\n",
      "Requirement already satisfied: python-dateutil>=2.7 in c:\\users\\rbmxu\\appdata\\roaming\\python\\python313\\site-packages (from matplotlib) (2.9.0.post0)\n",
      "Requirement already satisfied: six>=1.5 in c:\\users\\rbmxu\\appdata\\roaming\\python\\python313\\site-packages (from python-dateutil>=2.7->matplotlib) (1.17.0)\n"
     ]
    },
    {
     "name": "stderr",
     "output_type": "stream",
     "text": [
      "\n",
      "[notice] A new release of pip is available: 24.3.1 -> 25.0.1\n",
      "[notice] To update, run: python.exe -m pip install --upgrade pip\n"
     ]
    },
    {
     "name": "stdout",
     "output_type": "stream",
     "text": [
      "Defaulting to user installation because normal site-packages is not writeable\n",
      "Requirement already satisfied: scipy in c:\\users\\rbmxu\\appdata\\roaming\\python\\python313\\site-packages (1.15.2)\n",
      "Requirement already satisfied: numpy<2.5,>=1.23.5 in c:\\users\\rbmxu\\appdata\\roaming\\python\\python313\\site-packages (from scipy) (2.2.3)\n"
     ]
    },
    {
     "name": "stderr",
     "output_type": "stream",
     "text": [
      "\n",
      "[notice] A new release of pip is available: 24.3.1 -> 25.0.1\n",
      "[notice] To update, run: python.exe -m pip install --upgrade pip\n"
     ]
    }
   ],
   "source": [
    "!pip install numpy\n",
    "!pip install -U matplotlib\n",
    "!pip install scipy"
   ]
  },
  {
   "cell_type": "code",
   "execution_count": 2,
   "metadata": {},
   "outputs": [],
   "source": [
    "import numpy as np\n",
    "import matplotlib.pyplot as plt\n",
    "from scipy.optimize import minimize"
   ]
  },
  {
   "cell_type": "markdown",
   "metadata": {},
   "source": [
    "\n",
    "\n",
    "---\n",
    "\n",
    "## **Step 2: Define Generator Data**\n",
    "\n",
    "Each generator has:\n",
    "- **A fixed startup cost** (not used for this step; we focus on the running cost).\n",
    "- **A nonlinear fuel cost** (includes linear, quadratic, and cubic terms).\n",
    "- **Minimum and maximum power output limits**.\n",
    "\n"
   ]
  },
  {
   "cell_type": "code",
   "execution_count": 3,
   "metadata": {},
   "outputs": [
    {
     "name": "stdout",
     "output_type": "stream",
     "text": [
      "Generator data is set up for cubic + quadratic + linear cost example.\n"
     ]
    }
   ],
   "source": [
    "# Number of generators\n",
    "num_generators = 3\n",
    "\n",
    "# Linear fuel cost per MW ($/MW) for each generator\n",
    "fuel_cost = np.array([10, 12, 9])\n",
    "\n",
    "# Quadratic cost coefficients\n",
    "quad_coef = np.array([0.03, 0.04, 0.02])\n",
    "\n",
    "# Cubic cost coefficients\n",
    "cubic_coef = np.array([0.001, 0.0015, 0.0008])\n",
    "\n",
    "# Minimum and maximum power each generator can produce (MW)\n",
    "P_min = np.array([50, 60, 40])\n",
    "P_max = np.array([200, 180, 150])\n",
    "\n",
    "# Total power demand (MW)\n",
    "P_demand = 400\n",
    "\n",
    "print(\"Generator data is set up for cubic + quadratic + linear cost example.\")"
   ]
  },
  {
   "cell_type": "markdown",
   "metadata": {},
   "source": [
    "---\n",
    "\n",
    "## **Step 3: Define the Power Balance Constraint**\n",
    "\n",
    "To keep the **power grid stable**, the **total power generated** must exactly match the **total demand**:\n",
    "\n",
    "$$\n",
    "\\sum_{i=1}^{n} P_i = P_{\\text{demand}}\n",
    "$$"
   ]
  },
  {
   "cell_type": "code",
   "execution_count": 11,
   "metadata": {},
   "outputs": [
    {
     "name": "stdout",
     "output_type": "stream",
     "text": [
      "Power balance constraint is defined.\n"
     ]
    }
   ],
   "source": [
    "# Constraint: Total power must equal demand\n",
    "constraints = ({'type': 'eq', 'fun': lambda P: np.sum(P) - P_demand})\n",
    "\n",
    "print(\"Power balance constraint is defined.\")"
   ]
  },
  {
   "cell_type": "markdown",
   "metadata": {},
   "source": [
    "---\n",
    "\n",
    "## **Step 4: Define the Cost Function**\n",
    "\n",
    "The **total cost function** for each generator includes:\n",
    "- A **linear term**: $ c_i P_i $\n",
    "- A **quadratic term**: $ q_i P_i^2 $\n",
    "- A **cubic term**: $ r_i P_i^3 $\n",
    "\n",
    "The **objective function** we minimize is:\n",
    "\n",
    "$$\n",
    "\\min \\sum_{i=1}^{n} \\left( c_i P_i + q_i P_i^2 + r_i P_i^3 \\right)\n",
    "$$"
   ]
  },
  {
   "cell_type": "code",
   "execution_count": 5,
   "metadata": {},
   "outputs": [
    {
     "name": "stdout",
     "output_type": "stream",
     "text": [
      "Objective function (nonlinear cost minimization) is defined.\n"
     ]
    }
   ],
   "source": [
    "# Define the nonlinear cost function\n",
    "def cost_function(P):\n",
    "    return np.sum(fuel_cost * P + quad_coef * P**2 + cubic_coef * P**3)\n",
    "\n",
    "print(\"Objective function (nonlinear cost minimization) is defined.\")"
   ]
  },
  {
   "cell_type": "markdown",
   "metadata": {},
   "source": [
    "---\n",
    "\n",
    "## **Step 5: Solve Using Nonlinear Programming**\n",
    "\n",
    "We use **Python’s `scipy.optimize.minimize` function** with the **Sequential Quadratic Programming (SQP) method**, which is suitable for **nonlinear problems with constraints**.\n",
    "\n",
    "### **Understanding `minimize` function**\n",
    "- **Objective function** → `cost_function(P)`\n",
    "- **Equality constraint** → Total power generation meets demand.\n",
    "- **Bounds** → Each generator operates within its min/max limits.\n",
    "- **Solver method** → `\"SLSQP\"` (Sequential Least Squares Quadratic Programming).\n",
    "\n",
    "---\n",
    "\n",
    "### **Setting Initial Conditions and Solving**\n",
    "\n",
    "- **Initial guess (`x0`)** → Midpoint between `P_min` and `P_max`\n",
    "- **Bounds (`bounds`)** → Generator limits"
   ]
  },
  {
   "cell_type": "code",
   "execution_count": 6,
   "metadata": {},
   "outputs": [
    {
     "name": "stdout",
     "output_type": "stream",
     "text": [
      "\n",
      "Optimal power dispatch solution (3 Generators, Nonlinear):\n",
      "[139.01091204 110.98908796 150.        ]\n",
      "Total Cost: $13031.54\n"
     ]
    }
   ],
   "source": [
    "# Initial guess (somewhere in the feasible range)\n",
    "P_initial = (P_min + P_max) / 2\n",
    "\n",
    "# Bounds for each generator\n",
    "bounds = list(zip(P_min, P_max))\n",
    "\n",
    "# Solve the nonlinear optimization using SLSQP\n",
    "result = minimize(cost_function, P_initial, method=\"SLSQP\", bounds=bounds, constraints=constraints)\n",
    "\n",
    "# Extract results\n",
    "P_opt = result.x\n",
    "total_cost = result.fun\n",
    "\n",
    "print(\"\\nOptimal power dispatch solution (3 Generators, Nonlinear):\")\n",
    "print(P_opt)\n",
    "print(f\"Total Cost: ${total_cost:.2f}\")"
   ]
  },
  {
   "cell_type": "markdown",
   "metadata": {},
   "source": [
    "---\n",
    "\n",
    "## **Step 6: Visualizing the Results**\n",
    "\n",
    "To better understand the results, we **plot the optimal power distribution** among the generators."
   ]
  },
  {
   "cell_type": "code",
   "execution_count": 7,
   "metadata": {},
   "outputs": [
    {
     "data": {
      "image/png": "[encoded data removed]",
      "text/plain": [
       "<Figure size 800x500 with 1 Axes>"
      ]
     },
     "metadata": {},
     "output_type": "display_data"
    }
   ],
   "source": [
    "# Plot the power allocation for each generator\n",
    "plt.figure(figsize=(8, 5))\n",
    "plt.bar(range(1, num_generators + 1), P_opt, color='b')\n",
    "plt.xlabel(\"Generator Index\")\n",
    "plt.ylabel(\"Power Output (MW)\")\n",
    "plt.title(\"Optimal Power Dispatch (Nonlinear, 3 Generators)\")\n",
    "plt.grid(True)\n",
    "plt.show()"
   ]
  },
  {
   "cell_type": "markdown",
   "metadata": {},
   "source": [
    "---\n",
    "\n",
    "## **Step 7: More Realistic Case (7 Generators)**\n",
    "\n",
    "Now, let's **extend the problem** to **7 generators** with similar logic.\n",
    "\n",
    "### **Updated Conditions**\n",
    "- **Increased number of generators** → `num_generators = 7`\n",
    "- **Different fuel cost coefficients**\n",
    "- **Increased power demand** → `P_demand = 800`\n"
   ]
  },
  {
   "cell_type": "code",
   "execution_count": 8,
   "metadata": {},
   "outputs": [
    {
     "name": "stdout",
     "output_type": "stream",
     "text": [
      "Generator data is set up for the 7-generator nonlinear case.\n"
     ]
    }
   ],
   "source": [
    "# Number of generators (expanded case)\n",
    "num_generators = 7\n",
    "\n",
    "# Updated generator parameters\n",
    "fuel_cost = np.array([10, 12, 9, 14, 11, 13, 8])  # Linear term\n",
    "quad_coef = np.array([0.03, 0.05, 0.04, 0.06, 0.03, 0.04, 0.05])  # Quadratic term\n",
    "cubic_coef = np.array([0.001, 0.0012, 0.0009, 0.0015, 0.0011, 0.0013, 0.0008])  # Cubic term\n",
    "\n",
    "# Power limits for each generator (MW)\n",
    "P_min = np.array([50, 60, 40, 70, 55, 65, 45])\n",
    "P_max = np.array([200, 180, 150, 220, 190, 210, 160])\n",
    "\n",
    "# Load demand (MW)\n",
    "P_demand = 800\n",
    "\n",
    "print(\"Generator data is set up for the 7-generator nonlinear case.\")"
   ]
  },
  {
   "cell_type": "code",
   "execution_count": 9,
   "metadata": {},
   "outputs": [
    {
     "name": "stdout",
     "output_type": "stream",
     "text": [
      "\n",
      "Optimal Power Dispatch for 7 Generators (Nonlinear):\n",
      "[123.19448367 105.85254298 127.27916362  91.78280867 116.67351313\n",
      " 103.34755662 131.86993131]\n",
      "Total Cost: $23813.68\n"
     ]
    }
   ],
   "source": [
    "# Define new constraints\n",
    "constraints = ({'type': 'eq', 'fun': lambda P: np.sum(P) - P_demand})\n",
    "\n",
    "# Initial guess (midpoint of min/max limits)\n",
    "P_initial = (P_min + P_max) / 2\n",
    "\n",
    "# Bounds for each generator\n",
    "bounds = list(zip(P_min, P_max))\n",
    "\n",
    "# Solve the nonlinear optimization using SLSQP\n",
    "result = minimize(cost_function, P_initial, method=\"SLSQP\", bounds=bounds, constraints=constraints)\n",
    "\n",
    "# Extract results\n",
    "P_opt = result.x\n",
    "total_cost = result.fun\n",
    "\n",
    "print(\"\\nOptimal Power Dispatch for 7 Generators (Nonlinear):\")\n",
    "print(P_opt)\n",
    "print(f\"Total Cost: ${total_cost:.2f}\")"
   ]
  },
  {
   "cell_type": "markdown",
   "metadata": {},
   "source": [
    "---\n",
    "\n",
    "## **Step 8: Visualizing the 7-Generator Case**\n",
    "\n"
   ]
  },
  {
   "cell_type": "code",
   "execution_count": 10,
   "metadata": {},
   "outputs": [
    {
     "data": {
      "image/png": "[encoded data removed]",
      "text/plain": [
       "<Figure size 800x500 with 1 Axes>"
      ]
     },
     "metadata": {},
     "output_type": "display_data"
    }
   ],
   "source": [
    "# Visualization: Bar Chart\n",
    "plt.figure(figsize=(8, 5))\n",
    "plt.bar(range(1, num_generators + 1), P_opt, color='b')\n",
    "plt.xlabel(\"Generator Number\")\n",
    "plt.ylabel(\"Power Output (MW)\")\n",
    "plt.title(\"Optimal Power Dispatch for 7 Generators (Nonlinear Programming)\")\n",
    "plt.grid(True)\n",
    "plt.xticks(range(1, num_generators + 1))\n",
    "plt.ylim([0, max(P_max) + 20])\n",
    "plt.show()"
   ]
  },
  {
   "cell_type": "markdown",
   "metadata": {},
   "source": [
    "\n",
    "---\n",
    "\n",
    "## **Step 9: Summary**\n",
    "- **Defined** the economic dispatch problem using **nonlinear programming**.\n",
    "- **Formulated** a cost function with **linear, quadratic, and cubic components**.\n",
    "- **Explained** how nonlinear fuel costs affect optimization.\n",
    "- **Used `scipy.optimize.minimize` to solve the problem**.\n",
    "- **Visualized** the power allocation."
   ]
  },
  {
   "cell_type": "markdown",
   "metadata": {},
   "source": [
    "\n",
    "---\n",
    "\n",
    "## **APPENDIX**"
   ]
  },
  {
   "cell_type": "markdown",
   "metadata": {},
   "source": [
    "# ⚡ Generator Cost Modeling with Cubic and Quadratic Terms\n",
    "\n",
    "The values **0.0035** (for quadratic) and **0.0001** (for cubic) are **heuristic scaling factors** commonly used in power systems when exact cost curves are not available. These values help simulate a **reasonable nonlinear cost behavior** for optimization or simulation tasks in energy dispatch models.\n",
    "\n",
    "---\n",
    "\n",
    "## ⚙️ 1. Practical Modeling Background\n",
    "\n",
    "In generator cost modeling, the total cost function is generally expressed as:\n",
    "\n",
    "$$\n",
    "\\text{Cost}(P) = a_i P^3 + b_i P^2 + c_i P + d_i\n",
    "$$\n",
    "\n",
    "Where:\n",
    "\n",
    "* \\$c\\_i\\$: **Linear cost** (dominant), based on fuel cost per MW.\n",
    "* \\$b\\_i\\$: **Quadratic cost**, modeling increasing marginal cost (e.g., due to efficiency losses).\n",
    "* \\$a\\_i\\$: **Cubic cost**, introducing slight curvature for non-convex behavior or saturation effects.\n",
    "* \\$d\\_i\\$: **Fixed or startup cost** (optional in optimization models).\n",
    "\n",
    "In empirical data from utilities:\n",
    "\n",
    "* Quadratic coefficients \\$b\\_i\\$ are often in the range of **1–5%** of the linear cost \\$c\\_i\\$.\n",
    "* Cubic coefficients \\$a\\_i\\$ are typically **0.01–0.1%** of \\$c\\_i\\$.\n",
    "\n",
    "---\n",
    "\n",
    "## 📐 2. Chosen Scaling Factors\n",
    "\n",
    "To synthetically generate realistic cost curves, we define:\n",
    "\n",
    "* **Quadratic coefficient**:\n",
    "\n",
    "$$\n",
    "b_i = 0.0035 \\times \\text{fuel\\_cost}_i \\quad \\Rightarrow \\text{~0.35% of } c_i\n",
    "$$\n",
    "\n",
    "This maintains a convex curve, enhancing realism while ensuring the quadratic term doesn't dominate.\n",
    "\n",
    "* **Cubic coefficient**:\n",
    "\n",
    "$$\n",
    "a_i = 0.0001 \\times \\text{fuel\\_cost}_i \\quad \\Rightarrow \\text{~0.01% of } c_i\n",
    "$$\n",
    "\n",
    "This adds gentle curvature for more flexible optimization without heavily influencing the outcome.\n",
    "\n",
    "---\n",
    "\n",
    "## 📊 3. Illustrative Comparison\n",
    "\n",
    "To observe the behavior of these coefficients over a realistic generator output range \\$P\\$, we visualize a cost curve:\n",
    "\n",
    "```python\n",
    "import numpy as np\n",
    "import matplotlib.pyplot as plt\n",
    "\n",
    "P = np.linspace(40, 200, 100)\n",
    "fuel_cost = 10\n",
    "quad_coef = 0.0035 * fuel_cost\n",
    "cubic_coef = 0.0001 * fuel_cost\n",
    "\n",
    "cost = cubic_coef * P**3 + quad_coef * P**2 + fuel_cost * P\n",
    "\n",
    "plt.figure(figsize=(8, 5))\n",
    "plt.plot(P, cost, label='Total Cost', linewidth=2)\n",
    "plt.xlabel('Power Output (MW)')\n",
    "plt.ylabel('Cost ($)')\n",
    "plt.title('Generator Cost Curve Example')\n",
    "plt.grid(True)\n",
    "plt.legend()\n",
    "plt.show()\n",
    "```\n",
    "\n",
    "---\n",
    "\n",
    "## ✅ Summary Table\n",
    "\n",
    "| **Coefficient**      | **Set As**             | **Typical Range**           | **Purpose**                      |\n",
    "| -------------------- | ---------------------- | --------------------------- | -------------------------------- |\n",
    "| Linear (\\$c\\_i\\$)    | Fuel cost              | 10–100 \\$/MW                | Main cost based on power output  |\n",
    "| Quadratic (\\$b\\_i\\$) | \\$0.0035 \\times c\\_i\\$ | \\~0.1–5% of linear cost     | Models increasing marginal cost  |\n",
    "| Cubic (\\$a\\_i\\$)     | \\$0.0001 \\times c\\_i\\$ | \\~0.001–0.1% of linear cost | Adds non-convexity or saturation |\n",
    "\n",
    "---\n",
    "\n",
    "## 📌 Notes\n",
    "\n",
    "* These values are **synthetic defaults** suitable for test systems and academic models.\n",
    "* For real-world applications, consider **regression fitting** on historical generation data to derive \\$a\\_i\\$, \\$b\\_i\\$, and \\$c\\_i\\$ more precisely.\n",
    "\n",
    "\n"
   ]
  },
  {
   "cell_type": "markdown",
   "metadata": {},
   "source": []
  }
 ],
 "metadata": {
  "kernelspec": {
   "display_name": "Python 3",
   "language": "python",
   "name": "python3"
  },
  "language_info": {
   "codemirror_mode": {
    "name": "ipython",
    "version": 3
   },
   "file_extension": ".py",
   "mimetype": "text/x-python",
   "name": "python",
   "nbconvert_exporter": "python",
   "pygments_lexer": "ipython3",
   "version": "3.13.1"
  }
 },
 "nbformat": 4,
 "nbformat_minor": 2
}
