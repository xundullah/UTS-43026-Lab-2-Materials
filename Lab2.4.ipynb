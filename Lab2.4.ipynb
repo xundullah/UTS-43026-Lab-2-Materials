{
 "cells": [
  {
   "cell_type": "markdown",
   "metadata": {},
   "source": [
    "## **Lab 2-4: Economic Dispatch of Generators in a Power System**\n",
    "### **Integer Programming Approach using Python**\n",
    "\n",
    "---\n",
    "\n",
    "## **Lab Overview**\n",
    "\n",
    "This **Python-based Jupyter Notebook** helps you understand **economic dispatch using Integer Programming (IP)**. Our objective is to find the best way to **distribute power generation** among multiple generators at the **lowest cost** while ensuring that the **total power demand is met**.\n",
    "\n",
    "Unlike **Linear Programming (LP)** and **Quadratic Programming (QP)**, where power generation is treated as a continuous variable, **Integer Programming (IP)** requires power to be allocated in **fixed discrete blocks** (e.g., 10 MW). This approach is **more realistic for practical power dispatch**, where generation units can only operate in **specific increments**.\n",
    "\n",
    "We use **Integer Programming (IP)**, a mathematical optimization method that **minimizes fuel costs while ensuring integer power allocations**.\n",
    "\n",
    "---\n",
    "\n",
    "### **In this Lab, We Will Learn:**\n",
    "- How to **model power generation as integer variables**.\n",
    "- How to **set up constraints** to ensure demand is met.\n",
    "- How to **use Python’s `scipy.optimize.milp` function** to solve the **Integer Programming problem**.\n",
    "\n",
    " **By the end of this lab, you will be able to optimize power dispatch using an integer-based model!**\n",
    "\n"
   ]
  },
  {
   "cell_type": "markdown",
   "metadata": {},
   "source": [
    "---\n",
    "\n",
    "## **Step 1: Install Required Libraries**\n",
    "\n",
    "Before running the code, ensure you have the necessary packages installed.\n",
    "\n",
    "```python\n",
    "!pip install numpy\n",
    "!pip install -U matplotlib\n",
    "!pip install scipy\n",
    "```\n",
    "\n",
    "Now, import the required libraries.\n",
    "\n",
    "```python\n",
    "import numpy as np\n",
    "import matplotlib.pyplot as plt\n",
    "from scipy.optimize import milp, LinearConstraint\n",
    "```"
   ]
  },
  {
   "cell_type": "code",
   "execution_count": 4,
   "metadata": {},
   "outputs": [],
   "source": [
    "import numpy as np\n",
    "import matplotlib.pyplot as plt\n",
    "from scipy.optimize import milp, LinearConstraint"
   ]
  },
  {
   "cell_type": "markdown",
   "metadata": {},
   "source": [
    "---\n",
    "\n",
    "## **Step 2: Define Generator Data**\n",
    "\n",
    "Each generator operates in **fixed block increments** of **10 MW**:\n",
    "- **Decision variable**: Number of **blocks** assigned to each generator.\n",
    "- **Fuel Cost per MW** → Converted to **cost per block**.\n",
    "- **Minimum and Maximum Power Output** → Converted to **minimum and maximum blocks**.\n",
    "- **Total Power Demand** → Converted to **total required blocks**.\n"
   ]
  },
  {
   "cell_type": "code",
   "execution_count": 2,
   "metadata": {},
   "outputs": [
    {
     "name": "stdout",
     "output_type": "stream",
     "text": [
      "Generator data is set up for integer programming (block-based dispatch).\n"
     ]
    }
   ],
   "source": [
    "# Number of generators\n",
    "num_generators = 3\n",
    "\n",
    "# Fuel cost per MW for each generator ($/MW)\n",
    "fuel_cost = np.array([10, 12, 9])\n",
    "\n",
    "# Minimum and maximum power each generator can produce (MW)\n",
    "P_min = np.array([50, 60, 40])\n",
    "P_max = np.array([200, 180, 150])\n",
    "\n",
    "# Total power demand (MW)\n",
    "P_demand = 400\n",
    "\n",
    "# Block size (MW)\n",
    "block_size = 10\n",
    "\n",
    "# Convert fuel cost to cost per block\n",
    "block_cost = fuel_cost * block_size  # Example: if fuel_cost[i] = 10, then per 10MW block = 10*10 = 100\n",
    "\n",
    "# Compute minimum and maximum number of blocks per generator\n",
    "min_blocks = np.ceil(P_min / block_size).astype(int)  # Example: 50/10 = 5 blocks\n",
    "max_blocks = np.floor(P_max / block_size).astype(int)  # Example: 200/10 = 20 blocks\n",
    "\n",
    "# Total number of blocks required to meet demand\n",
    "total_blocks = P_demand // block_size  # Example: 400/10 = 40 blocks\n",
    "\n",
    "print(\"Generator data is set up for integer programming (block-based dispatch).\")"
   ]
  },
  {
   "cell_type": "markdown",
   "metadata": {},
   "source": [
    "---\n",
    "\n",
    "## **Step 3: Define the Power Balance Constraint**\n",
    "\n",
    "To keep the **power grid stable**, the **total power generated** must exactly match the **total demand**:\n",
    "\n",
    "$$\n",
    "\\sum_{i=1}^{n} x_i = \\frac{P_{\\text{demand}}}{\\text{block size}}\n",
    "$$\n",
    "\n",
    "where $ x_i $ represents the **integer number of blocks assigned** to generator $ i $.\n",
    "\n",
    "\n"
   ]
  },
  {
   "cell_type": "code",
   "execution_count": 5,
   "metadata": {},
   "outputs": [
    {
     "name": "stdout",
     "output_type": "stream",
     "text": [
      "Power balance constraint is defined.\n"
     ]
    }
   ],
   "source": [
    "# Constraint: Total power (sum of blocks) must equal required blocks\n",
    "power_balance_constraint = LinearConstraint(np.ones((1, num_generators)), total_blocks, total_blocks)\n",
    "\n",
    "print(\"Power balance constraint is defined.\")"
   ]
  },
  {
   "cell_type": "markdown",
   "metadata": {},
   "source": [
    "\n",
    "---\n",
    "\n",
    "## **Step 4: Define the Cost Function**\n",
    "\n",
    "The **objective function** we minimize is:\n",
    "\n",
    "$$\n",
    "\\min \\sum_{i=1}^{n} c_i x_i\n",
    "$$\n",
    "\n",
    "where:\n",
    "- $ c_i $ is the **cost per block** for generator $ i $.\n",
    "- $ x_i $ is the **integer number of blocks assigned** to generator $ i $.\n",
    "\n",
    "\n",
    "\n",
    "\n"
   ]
  },
  {
   "cell_type": "code",
   "execution_count": 6,
   "metadata": {},
   "outputs": [
    {
     "name": "stdout",
     "output_type": "stream",
     "text": [
      "Objective function (integer programming cost minimization) is defined.\n"
     ]
    }
   ],
   "source": [
    "# Define objective function (fuel cost per block)\n",
    "objective = block_cost\n",
    "\n",
    "print(\"Objective function (integer programming cost minimization) is defined.\")"
   ]
  },
  {
   "cell_type": "markdown",
   "metadata": {},
   "source": [
    "---\n",
    "\n",
    "## **Step 5: Solve Using Integer Programming**\n",
    "\n",
    "We use **Python’s `scipy.optimize.milp` function**, which is suitable for **integer problems with constraints**.\n",
    "\n",
    "### **Understanding `milp` function**\n",
    "- **Objective function** → `objective`\n",
    "- **Equality constraint** → Total power generation meets demand.\n",
    "- **Bounds** → Each generator operates within its min/max blocks.\n",
    "- **Integer variables** → Power is allocated in **integer blocks**.\n",
    "\n",
    "---\n",
    "\n",
    "### **Setting Up Integer Optimization and Solving**\n",
    "\n",
    "- **Decision variables (`x`)** → Number of blocks per generator (must be **integer**).\n",
    "- **Bounds (`bounds`)** → Generator limits in **blocks**.\n",
    "\n",
    "\n"
   ]
  },
  {
   "cell_type": "code",
   "execution_count": 8,
   "metadata": {},
   "outputs": [
    {
     "name": "stdout",
     "output_type": "stream",
     "text": [
      "\n",
      "Optimal blocks allocated to each generator (Integer Programming):\n",
      "[19  6 15]\n",
      "\n",
      "Corresponding total MW per generator:\n",
      "[190  60 150]\n",
      "\n",
      "Total Cost: $3970.00\n"
     ]
    }
   ],
   "source": [
    "# Define integer constraints (all generators must have integer values)\n",
    "integer_constraints = np.ones(num_generators, dtype=int)  # Must be 1 for integer variables\n",
    "\n",
    "# Bounds: Convert list of tuples into separate lower and upper bound arrays\n",
    "lb = min_blocks.astype(float)  # Lower bounds as float\n",
    "ub = max_blocks.astype(float)  # Upper bounds as float\n",
    "bounds = (lb, ub)  # Tuple of lower and upper bounds\n",
    "\n",
    "# Solve the integer programming problem\n",
    "result = milp(c=objective, constraints=[power_balance_constraint], integrality=integer_constraints, bounds=bounds)\n",
    "\n",
    "# Extract results\n",
    "x_opt = result.x.astype(int)  # Convert to integer\n",
    "total_cost = result.fun\n",
    "\n",
    "print(\"\\nOptimal blocks allocated to each generator (Integer Programming):\")\n",
    "print(x_opt)\n",
    "\n",
    "# Convert blocks to MW\n",
    "P_opt = x_opt * block_size\n",
    "print(\"\\nCorresponding total MW per generator:\")\n",
    "print(P_opt)\n",
    "\n",
    "print(f\"\\nTotal Cost: ${total_cost:.2f}\")"
   ]
  },
  {
   "cell_type": "markdown",
   "metadata": {},
   "source": [
    "---\n",
    "\n",
    "## **Step 6: Visualizing the Results**\n",
    "\n",
    "To better understand the results, we **plot the optimal power distribution** among the generators.\n",
    "\n",
    "\n",
    "\n"
   ]
  },
  {
   "cell_type": "code",
   "execution_count": 9,
   "metadata": {},
   "outputs": [
    {
     "data": {
      "image/png": "[encoded data removed]",
      "text/plain": [
       "<Figure size 800x500 with 1 Axes>"
      ]
     },
     "metadata": {},
     "output_type": "display_data"
    }
   ],
   "source": [
    "# Plot the power allocation for each generator\n",
    "plt.figure(figsize=(8, 5))\n",
    "plt.bar(range(1, num_generators + 1), P_opt, color='b')\n",
    "plt.xlabel(\"Generator Index\")\n",
    "plt.ylabel(\"Power Output (MW)\")\n",
    "plt.title(\"Optimal Power Dispatch (Integer Programming, 3 Generators)\")\n",
    "plt.grid(True)\n",
    "plt.show()"
   ]
  },
  {
   "cell_type": "markdown",
   "metadata": {},
   "source": [
    "---\n",
    "\n",
    "## **Step 7: More Realistic Case (7 Generators)**\n",
    "\n",
    "Now, let's **extend the problem** to **7 generators** with similar logic."
   ]
  },
  {
   "cell_type": "code",
   "execution_count": 10,
   "metadata": {},
   "outputs": [
    {
     "name": "stdout",
     "output_type": "stream",
     "text": [
      "Generator data is set up for the 7-generator integer dispatch scenario.\n"
     ]
    }
   ],
   "source": [
    "# Number of generators (expanded case)\n",
    "num_generators = 7\n",
    "\n",
    "# Updated generator parameters\n",
    "fuel_cost = np.array([10, 12, 9, 14, 11, 13, 8])\n",
    "\n",
    "# Minimum and maximum power each generator can produce (MW)\n",
    "P_min = np.array([50, 60, 40, 70, 55, 65, 45])\n",
    "P_max = np.array([200, 180, 150, 220, 190, 210, 160])\n",
    "\n",
    "# Total power demand (MW)\n",
    "P_demand = 800\n",
    "\n",
    "print(\"Generator data is set up for the 7-generator integer dispatch scenario.\")\n"
   ]
  },
  {
   "cell_type": "markdown",
   "metadata": {},
   "source": [
    "\n",
    "---\n",
    "\n",
    "### **Solve for 7 Generators Using Integer Programming**"
   ]
  },
  {
   "cell_type": "code",
   "execution_count": 12,
   "metadata": {},
   "outputs": [
    {
     "name": "stdout",
     "output_type": "stream",
     "text": [
      "Generator data is set up for the 7-generator integer dispatch scenario.\n",
      "\n",
      "Optimal Power Dispatch for 7 Generators (Integer Programming):\n",
      "[20  6 15  7  9  7 16]\n",
      "\n",
      "Corresponding total MW per generator:\n",
      "[200  60 150  70  90  70 160]\n",
      "\n",
      "Total Cost: $8230.00\n"
     ]
    }
   ],
   "source": [
    "# Convert fuel cost to cost per block\n",
    "block_cost = fuel_cost * block_size  # Example: if fuel_cost[i] = 10, then per 10MW block = 10*10 = 100\n",
    "\n",
    "# Compute minimum and maximum number of blocks per generator\n",
    "min_blocks = np.ceil(P_min / block_size).astype(int)  # Example: 50/10 = 5 blocks\n",
    "max_blocks = np.floor(P_max / block_size).astype(int)  # Example: 200/10 = 20 blocks\n",
    "\n",
    "# Total number of blocks required to meet demand\n",
    "total_blocks = P_demand // block_size  # Example: 800/10 = 80 blocks\n",
    "\n",
    "# Update the constraint for power balance\n",
    "power_balance_constraint = LinearConstraint(np.ones((1, num_generators)), total_blocks, total_blocks)\n",
    "\n",
    "# Define integer constraints for all generators\n",
    "integer_constraints = np.ones(num_generators, dtype=int)  # Must be 1 for integer variables\n",
    "\n",
    "# Bounds: Convert list of tuples into separate lower and upper bound arrays\n",
    "lb = min_blocks.astype(float)  # Lower bounds as float\n",
    "ub = max_blocks.astype(float)  # Upper bounds as float\n",
    "bounds = (lb, ub)  # Tuple of lower and upper bounds\n",
    "\n",
    "print(\"Generator data is set up for the 7-generator integer dispatch scenario.\")\n",
    "\n",
    "# Solve the integer programming problem for 7 generators\n",
    "result = milp(c=block_cost, constraints=[power_balance_constraint], integrality=integer_constraints, bounds=bounds)\n",
    "\n",
    "# Extract results\n",
    "x_opt = result.x.astype(int)\n",
    "total_cost = result.fun\n",
    "\n",
    "print(\"\\nOptimal Power Dispatch for 7 Generators (Integer Programming):\")\n",
    "print(x_opt)\n",
    "\n",
    "# Convert blocks to MW\n",
    "P_opt = x_opt * block_size\n",
    "print(\"\\nCorresponding total MW per generator:\")\n",
    "print(P_opt)\n",
    "\n",
    "print(f\"\\nTotal Cost: ${total_cost:.2f}\")\n"
   ]
  },
  {
   "cell_type": "code",
   "execution_count": 13,
   "metadata": {},
   "outputs": [
    {
     "data": {
      "image/png": "[encoded data removed]",
      "text/plain": [
       "<Figure size 800x500 with 1 Axes>"
      ]
     },
     "metadata": {},
     "output_type": "display_data"
    }
   ],
   "source": [
    "# ===================================================================================\n",
    "# **🔹 Step 8: Visualization**\n",
    "# ===================================================================================\n",
    "\n",
    "# **Plot the power allocation for each generator**\n",
    "plt.figure(figsize=(8, 5))\n",
    "plt.bar(range(1, num_generators + 1), P_opt, color='b')\n",
    "plt.xlabel(\"Generator Index\", fontsize=12)\n",
    "plt.ylabel(\"Power Output (MW)\", fontsize=12)\n",
    "plt.title(\"Optimal Power Dispatch (Integer Programming, 7 Generators)\", fontsize=14)\n",
    "plt.grid(True)\n",
    "plt.xticks(range(1, num_generators + 1))\n",
    "plt.ylim([0, max(P_max) + 20])  # Adjust y-axis limit\n",
    "plt.show()"
   ]
  },
  {
   "cell_type": "code",
   "execution_count": null,
   "metadata": {},
   "outputs": [],
   "source": []
  }
 ],
 "metadata": {
  "kernelspec": {
   "display_name": "Python 3",
   "language": "python",
   "name": "python3"
  },
  "language_info": {
   "codemirror_mode": {
    "name": "ipython",
    "version": 3
   },
   "file_extension": ".py",
   "mimetype": "text/x-python",
   "name": "python",
   "nbconvert_exporter": "python",
   "pygments_lexer": "ipython3",
   "version": "3.13.1"
  }
 },
 "nbformat": 4,
 "nbformat_minor": 2
}
